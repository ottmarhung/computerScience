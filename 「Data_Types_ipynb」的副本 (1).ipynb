{
  "nbformat": 4,
  "nbformat_minor": 0,
  "metadata": {
    "colab": {
      "provenance": []
    },
    "kernelspec": {
      "name": "python3",
      "display_name": "Python 3"
    },
    "language_info": {
      "name": "python"
    }
  },
  "cells": [
    {
      "cell_type": "markdown",
      "source": [
        "\n",
        "### **Data Types Introduction**\n",
        "\n",
        "- **What are Data Types?**\n",
        "    - In computer science, a data type is a classification that specifies which type of value a variable can hold. Think of it as a label for the kind of data (e.g., numbers, texts, true/false values) we're dealing with.\n",
        "    - For instance, if we label something as a 'text' type, it means the variable will hold textual information like names, addresses, etc.\n",
        "\n",
        "#### **Why Do We Need Different Data Types?**\n",
        "1. **Efficiency:** Different data types use different amounts of memory. By choosing the right data type, we ensure our programs run efficiently.\n",
        "2. **Precision:** Some tasks require precision. For instance, financial calculations might need decimal values instead of whole numbers.\n",
        "3. **Clarity:** Using the right data type makes the code more readable and understandable.\n",
        "4. **Error Prevention:** Certain operations are only valid for specific data types. Having the right type can prevent errors. For example, you wouldn't want to accidentally add someone's name to their age.\n",
        "\n",
        "---\n",
        "\n",
        "### **Integers and Floats**\n",
        "\n",
        "#### **Definition and Examples of Integers and Floats**\n",
        "- **Integers:**\n",
        "    - These are whole numbers that can be positive, negative, or zero. They do not have decimal points.\n",
        "    - Examples: -3, -2, -1, 0, 1, 2, 3, ...\n",
        "- **Floats:**\n",
        "    - Also known as floating-point numbers, these are numbers that have a decimal point.\n",
        "    - They can represent real numbers (both rational and irrational numbers).\n",
        "    - Examples: -3.5, 0.0, 2.71, 3.14, ...\n",
        "\n",
        "#### **The Difference Between the Two**\n",
        "1. **Representation:** Integers are whole numbers without a decimal point, while floats have a decimal point.\n",
        "2. **Memory:** Floats typically require more memory than integers due to the precision they carry.\n",
        "3. **Operations:** Some operations might yield different results. For instance, dividing two integers might truncate the result, whereas dividing two floats will retain the decimal portion.\n",
        "\n",
        "#### **Practice: Create Variables of Integer and Float Types and Perform Basic Arithmetic Operations**\n",
        "1. **Creating Variables:**\n",
        "```python\n",
        "int_variable = 5\n",
        "float_variable = 5.5\n",
        "```\n",
        "2. **Arithmetic Operations:**\n",
        "    - **Addition:** `int_variable + 3` will result in `8`, but `float_variable + 3` will result in `8.5`.\n",
        "    - **Division:** `int_variable / 2` might differ in some languages in its result compared to `float_variable / 2`. In Python 3, both will return a float, but in some languages, integer division truncates the result.\n",
        "    - **Multiplication:** `int_variable * 2` will result in `10`, and `float_variable * 2` will result in `11.0`.\n",
        "\n",
        "3. **Experimentation:** Create your own integer and float variables and experiment with various arithmetic operations to observe the outcomes.\n",
        "\n",
        "---\n"
      ],
      "metadata": {
        "id": "LBu00G47APLR"
      }
    },
    {
      "cell_type": "code",
      "source": [
        "#Experiment with integers and floats in this cell\n",
        "\n",
        "int int_variable = 5\n",
        "float float_variable = 5.5\n"
      ],
      "metadata": {
        "id": "LCcqz0c-EMxq"
      },
      "execution_count": null,
      "outputs": []
    },
    {
      "cell_type": "markdown",
      "source": [
        "**1. Coffee Shop Calculator**\n",
        "   \n",
        "**Objective:** Calculate the total cost of items ordered at a coffee shop.\n",
        "\n",
        "- **Instructions:**\n",
        "   - Imagine you're visiting your favorite coffee shop.\n",
        "   - Use the `input()` function to ask the user to specify the number of espressos, lattes, and muffins they'd like to \"buy\". Convert these to integer values.\n",
        "   - Similarly, take user input for the prices of each item and convert these to float values.\n",
        "   - Write a program to calculate and display the total cost.\n",
        "\n",
        "---"
      ],
      "metadata": {
        "id": "bBnOPo9OEAEW"
      }
    },
    {
      "cell_type": "code",
      "source": [
        "#Your code for exercise 1 in here\n",
        "print(\"What are you going to buy?\")\n",
        "print(\"We have espressos 10.1NTD\")\n",
        "print(\"        lattes___ 20.2NTD\")\n",
        "print(\"        muffins__ 30.3NTD\")\n",
        "\n",
        "user_answer =float(input(\"how many cups of espressos are you going to buy?\"))\n",
        "user_answer2 =float(input(\"how many cups of lattes are you going to buy?\"))\n",
        "user_answer3 =float(input(\"how many muffins are you going to buy?\"))\n",
        "\n",
        "espressos = float(user_answer * 10.1)\n",
        "lattes = float(user_answer2 * 20.2)\n",
        "muffins = float(user_answer3 * 30.3)\n",
        "\n",
        "sum = espressos + lattes + muffins\n",
        "\n",
        "print(\"total:\")\n",
        "print(round(sum, 2))\n",
        "\n",
        "\n"
      ],
      "metadata": {
        "id": "ymdlxypHEeHA",
        "colab": {
          "base_uri": "https://localhost:8080/"
        },
        "outputId": "6da21ce2-8df8-442a-cdbb-b627bd5efebf"
      },
      "execution_count": null,
      "outputs": [
        {
          "output_type": "stream",
          "name": "stdout",
          "text": [
            "What are you going to buy?\n",
            "We have espressos 10.1NTD\n",
            "        lattes___ 20.2NTD\n",
            "        muffins__ 30.3NTD\n",
            "how many cups of espressos are you going to buy?1\n",
            "how many cups of lattes are you going to buy?1\n",
            "how many muffins are you going to buy?1\n",
            "total:\n",
            "60.6\n"
          ]
        }
      ]
    },
    {
      "cell_type": "markdown",
      "source": [
        "**2. Rocket Launch Countdown**\n",
        "   \n",
        "**Objective:** Simulate a rocket launch countdown.\n",
        "\n",
        "- **Instructions:**\n",
        "   - Use the `input()` function to ask the user for a starting countdown number and convert it to an integer.\n",
        "   - Write a loop that subtracts 1 from the variable and prints the current countdown number each iteration.\n",
        "   - Add a delay (using time.sleep in Python) of 0.5 seconds between each countdown number.\n",
        "\n",
        "---\n"
      ],
      "metadata": {
        "id": "5cn16bvxEiz5"
      }
    },
    {
      "cell_type": "code",
      "source": [
        "#Your code for exercise 2 in here\n",
        "import time\n",
        "\n",
        "a = int(input(\"how much do you want to countdown?\"))\n",
        "for i in range(0 ,a):\n",
        "\n",
        "  print(a-i)\n",
        "  time. sleep(0.5)\n",
        "  print(a-i-0.5)\n",
        "print(\"0\")\n",
        "\n",
        "\n",
        "\n"
      ],
      "metadata": {
        "id": "ys1WJFJWEncP",
        "colab": {
          "base_uri": "https://localhost:8080/"
        },
        "outputId": "8dbe5d45-7b0f-4f11-d4ac-b7143540dc51"
      },
      "execution_count": null,
      "outputs": [
        {
          "output_type": "stream",
          "name": "stdout",
          "text": [
            "how much do you want to countdown?5\n",
            "5\n",
            "4.5\n",
            "4\n",
            "3.5\n",
            "3\n",
            "2.5\n",
            "2\n",
            "1.5\n",
            "1\n",
            "0.5\n",
            "0\n"
          ]
        }
      ]
    },
    {
      "cell_type": "markdown",
      "source": [
        "**3. Your Weight on Other Planets**\n",
        "   \n",
        "**Objective:** Find out how much you'd weigh on different planets based on their gravity.\n",
        "\n",
        "- **Instructions:**\n",
        "   - Use the `input()` function to ask the user for their weight on Earth and convert this to a float.\n",
        "   - Create float variables for the gravity factor of different planets (e.g., Mars is about 0.38 of Earth's gravity).\n",
        "   - Calculate and display how much they'd weigh on each of these planets.\n",
        "\n",
        "---"
      ],
      "metadata": {
        "id": "_4CLsHIKEsGa"
      }
    },
    {
      "cell_type": "code",
      "source": [
        "#Exercise 3\n",
        "a = float(input(\"what is your weight on Earth\"))\n",
        "\n",
        "MarsWeight = float(a*0.38)\n",
        "MoonWeight = float(a*0.165)\n",
        "MercuryWeight = float(a*0.38)\n",
        "\n",
        "print(\"Your weight on Mars:\")\n",
        "print(MarsWeight)\n",
        "print(\"Your weight on Moon:\")\n",
        "print(MoonWeight)\n",
        "print(\"Your weight on Mercury:\")\n",
        "print(MercuryWeight)\n"
      ],
      "metadata": {
        "id": "2CGVY3iiEvR9",
        "colab": {
          "base_uri": "https://localhost:8080/"
        },
        "outputId": "3b208c37-8746-40e8-9beb-033d89bb2205"
      },
      "execution_count": null,
      "outputs": [
        {
          "output_type": "stream",
          "name": "stdout",
          "text": [
            "what is your weight on Earth100\n",
            "Your weight on Mars:\n",
            "38.0\n",
            "Your weight on Moon:\n",
            "16.5\n",
            "Your weight on Mercury:\n",
            "38.0\n"
          ]
        }
      ]
    },
    {
      "cell_type": "markdown",
      "source": [
        "**4. Pizza Party Calculator**\n",
        "   \n",
        "**Objective:** Calculate the cost per slice of pizza.\n",
        "\n",
        "- **Instructions:**\n",
        "   - Use the `input()` function to ask the user how many pizzas they bought and the total cost. Convert these values appropriately (integer for number of pizzas, float for cost).\n",
        "   - Ask the user to specify how many slices each pizza has and convert this to an integer.\n",
        "   - Calculate and display the cost per slice.\n",
        "\n",
        "---"
      ],
      "metadata": {
        "id": "iSGrrgiNExxp"
      }
    },
    {
      "cell_type": "code",
      "source": [
        "#the counter of each slice of pizza\n",
        "\n",
        "numOfPizza = int(input(\"how many pizzas you bought?\"))\n",
        "total = float(input(\"how about the total cost?(in USD)\"))\n",
        "numOfSlice = int(input(\"Then how many slice each pizza has?\"))\n",
        "\n",
        "costOfSlice = total / (numOfSlice * numOfPizza)\n",
        "print(\"the cost per slice:\")\n",
        "print(costOfSlice)\n"
      ],
      "metadata": {
        "id": "QFiXisVwE0ZR",
        "colab": {
          "base_uri": "https://localhost:8080/"
        },
        "outputId": "922e19fe-f44e-4181-d973-0e62fd595727"
      },
      "execution_count": null,
      "outputs": [
        {
          "output_type": "stream",
          "name": "stdout",
          "text": [
            "how many pizzas you bought?2\n",
            "how about the total cost?(in USD)20\n",
            "Then how many slice each pizza has?10\n",
            "the cost per slice:\n",
            "1.0\n"
          ]
        }
      ]
    },
    {
      "cell_type": "markdown",
      "source": [
        "\n",
        "**5. Travel Budget Calculator**\n",
        "   \n",
        "**Objective:** Calculate the total budget required for a trip.\n",
        "\n",
        "- **Instructions:**\n",
        "   - Imagine you're planning a trip to your dream destination.\n",
        "   - Use the `input()` function to ask the user for the number of days they plan to stay and convert this to an integer.\n",
        "   - Ask the user to specify the estimated daily expenses for food, accommodation, and sightseeing. Convert these to float values.\n",
        "   - Write a program to calculate and display the total estimated cost for the trip.\n",
        "\n",
        "---"
      ],
      "metadata": {
        "id": "bgTECsKHE3CF"
      }
    },
    {
      "cell_type": "code",
      "source": [
        "#Exercise 5\n",
        "\n",
        "daysForTrip = int(input(\"Which number of days did you plan for the trip?\"))\n",
        "\n",
        "food = float(input(\"What's the daily expense for food?\"))\n",
        "accommodation = float(input(\"What's the daily expense for accommodation?\"))\n",
        "sightseeing = float(input(\"What's the daily expense for sightseeing?\"))\n",
        "\n",
        "total = daysForTrip * (food + accommodation + sightseeing)\n",
        "print(total)"
      ],
      "metadata": {
        "id": "sT4Q-aYuE4jM",
        "colab": {
          "base_uri": "https://localhost:8080/"
        },
        "outputId": "0f0dd619-e4cf-48d8-eeea-db59ea9d160b"
      },
      "execution_count": null,
      "outputs": [
        {
          "output_type": "stream",
          "name": "stdout",
          "text": [
            "Which number of days did you plan for the trip?10\n",
            "What's the daily expense for food?10\n",
            "What's the daily expense for accommodation?10\n",
            "What's the daily expense for sightseeing?10\n",
            "300.0\n"
          ]
        }
      ]
    }
  ]
}