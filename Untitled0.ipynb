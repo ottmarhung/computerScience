{
  "nbformat": 4,
  "nbformat_minor": 0,
  "metadata": {
    "colab": {
      "provenance": [],
      "authorship_tag": "ABX9TyNv+vnDa7tH60pYIiIYupyS",
      "include_colab_link": true
    },
    "kernelspec": {
      "name": "python3",
      "display_name": "Python 3"
    },
    "language_info": {
      "name": "python"
    }
  },
  "cells": [
    {
      "cell_type": "markdown",
      "metadata": {
        "id": "view-in-github",
        "colab_type": "text"
      },
      "source": [
        "<a href=\"https://colab.research.google.com/github/ottmarhung/computerScience/blob/main/Untitled0.ipynb\" target=\"_parent\"><img src=\"https://colab.research.google.com/assets/colab-badge.svg\" alt=\"Open In Colab\"/></a>"
      ]
    },
    {
      "cell_type": "code",
      "execution_count": 7,
      "metadata": {
        "colab": {
          "base_uri": "https://localhost:8080/"
        },
        "id": "fpa2V1hQKhDs",
        "outputId": "1a010f93-3046-4301-c26b-8747c1a56296"
      },
      "outputs": [
        {
          "output_type": "stream",
          "name": "stdout",
          "text": [
            "input whatever you want type (quit) to quit: jp\n",
            "['jp']\n",
            "input whatever you want type (quit) to quit: sdd\n",
            "['jp', 'sdd']\n",
            "input whatever you want type (quit) to quit: quit\n",
            "['jp', 'sdd', 'quit']\n",
            "jp\n",
            "sdd\n"
          ]
        }
      ],
      "source": [
        "a = []\n",
        "i = 0\n",
        "b = str\n",
        "while b != \"quit\":\n",
        "  b = input(\"input whatever you want type (quit) to quit: \")\n",
        "  if b != quit:\n",
        "    a.append(b)\n",
        "    print(a)\n",
        "for i in range(0, len(a)-1):\n",
        "  print(a[i])\n",
        "\n",
        "\n",
        "\n"
      ]
    }
  ]
}