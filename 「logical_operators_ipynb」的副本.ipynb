{
  "nbformat": 4,
  "nbformat_minor": 0,
  "metadata": {
    "colab": {
      "provenance": []
    },
    "kernelspec": {
      "name": "python3",
      "display_name": "Python 3"
    },
    "language_info": {
      "name": "python"
    }
  },
  "cells": [
    {
      "cell_type": "markdown",
      "source": [
        "\n",
        "### **Logical Operators**\n",
        "\n",
        "Logical operators are used to combine conditional statements.\n",
        "\n",
        "**1. `and` Operator:**\n",
        "- Returns `True` if both statements are true.\n",
        "  \n",
        "  **Example:**\n",
        "  ```python\n",
        "  age = 25\n",
        "  if age > 18 and age < 30:\n",
        "      print(\"You are a young adult.\")\n",
        "  ```\n",
        "\n",
        "**2. `or` Operator:**\n",
        "- Returns `True` if at least one of the statements is true.\n",
        "  \n",
        "  **Example:**\n",
        "  ```python\n",
        "  day = \"Sunday\"\n",
        "  if day == \"Saturday\" or day == \"Sunday\":\n",
        "      print(\"It's the weekend!\")\n",
        "  ```\n",
        "\n",
        "**3. `not` Operator:**\n",
        "- Used to reverse the result; returns `False` if the result is true and vice versa.\n",
        "  \n",
        "  **Example:**\n",
        "  ```python\n",
        "  is_raining = False\n",
        "  if not is_raining:\n",
        "      print(\"It's a sunny day!\")\n",
        "  ```\n",
        "\n",
        "---\n",
        "\n",
        "### **Nested Conditional Statements**\n",
        "\n",
        "Sometimes, you may want to evaluate a condition inside another condition. This is referred to as nesting.\n",
        "\n",
        "**Example:**\n",
        "```python\n",
        "age = 25\n",
        "gender = \"Female\"\n",
        "if age < 30:\n",
        "    if gender == \"Female\":\n",
        "        print(\"Young female.\")\n",
        "    else:\n",
        "        print(\"Young male.\")\n",
        "else:\n",
        "    if gender == \"Female\":\n",
        "        print(\"Mature female.\")\n",
        "    else:\n",
        "        print(\"Mature male.\")\n",
        "```\n",
        "\n",
        "In the example above, the outer `if` checks the age, and the inner `if` checks the gender, leading to more precise classifications.\n",
        "\n"
      ],
      "metadata": {
        "id": "_J_0H623DMoG"
      }
    },
    {
      "cell_type": "code",
      "source": [],
      "metadata": {
        "id": "1tzurxbLDYuS"
      },
      "execution_count": null,
      "outputs": []
    },
    {
      "cell_type": "markdown",
      "source": [
        "### **Practice Exercises:**\n",
        "\n",
        "1. **Temperature Alert:**\n",
        "   - Ask the user for the current temperature and if it's raining (yes/no).\n",
        "   - If it's above 30°C and not raining, suggest wearing sunscreen. If it's below 30°C and raining, suggest taking an umbrella.\n",
        "\n",
        "\n",
        "\n"
      ],
      "metadata": {
        "id": "_2pb9LXWDcXE"
      }
    },
    {
      "cell_type": "code",
      "source": [
        "#Ex1\n",
        "temp = int(input(\"what is the temperature now(C°)\"))\n",
        "rain = input(\"Is it raining? answer 'Yes' or 'No' \")\n",
        "if temp >= 30\n",
        "  if rain == \"No\":\n",
        "    print(\"I suggest you wearing sunscreen\")\n",
        "  elif rain == \"Yes\":\n",
        "    print(\"I suggest you taking umbrella and wearing sunsceen\")\n",
        "  else:\n",
        "    print(\"error\")\n",
        "elif temp < 30 :\n",
        "  if rain == \"Yes\"\n",
        "    print(\"I suggest you taking umbrella\")\n",
        "  elif rain == \"No\"\n",
        "    print(\"I guess you don't need to bring anything\")\n",
        "  else:\n",
        "    print(\"error\")"
      ],
      "metadata": {
        "id": "AyCFWr2cDiuz",
        "colab": {
          "base_uri": "https://localhost:8080/"
        },
        "outputId": "c775338f-156b-4190-e417-c454fda71b59"
      },
      "execution_count": null,
      "outputs": [
        {
          "output_type": "stream",
          "name": "stdout",
          "text": [
            "what is the temperature now(C°)30\n",
            "Is it raining? answer 'Yes' or 'No' No\n",
            "I suggest you wearing sunscreen\n"
          ]
        }
      ]
    },
    {
      "cell_type": "markdown",
      "source": [
        "2. **Movie Night:**\n",
        "   - Ask the user if they like action movies and if they like romantic movies.\n",
        "   - Recommend a movie based on their preferences:\n",
        "     - Action and romance: \"Mr. & Mrs. Smith\",\n",
        "     - Only action: \"Die Hard\",\n",
        "     - Only romance: \"Pride and Prejudice\",\n",
        "     - Neither: \"Try watching a documentary!\"\n",
        "\n"
      ],
      "metadata": {
        "id": "hne5hxgMDj0i"
      }
    },
    {
      "cell_type": "code",
      "source": [
        "#Ex2\n",
        "mov = int(input(\"what kind of movie do you like action or romance(type'1'for action, type'2'for romance, type'3'for both)\"))\n",
        "if mov == 1:\n",
        "  print(\"I suggest you 'Die Hard'\")\n",
        "elif mov == 2:\n",
        "  print(\"I suggest you 'Pride and Prejudice'\")\n",
        "elif mov ==3:\n",
        "  print(\"I suggest you 'Mr. & Mrs. Smith'\")\n",
        "else:\n",
        "  print(\"Try watching a documentary!\")"
      ],
      "metadata": {
        "id": "m13PVPajDlwd"
      },
      "execution_count": null,
      "outputs": []
    },
    {
      "cell_type": "markdown",
      "source": [
        "3. **Eligibility for a Credit Card:**\n",
        "   - Ask the user for their age and monthly salary.\n",
        "   - If they are over 18 and earn more than $1,000 per month, inform them they are eligible for a credit card.\n"
      ],
      "metadata": {
        "id": "2DUNWDlsDmzl"
      }
    },
    {
      "cell_type": "code",
      "source": [
        "#Ex3\n",
        "age = int(input(\"what is your age\"))\n",
        "earn = int(input(\"how much you earn per month(USD):\"))\n",
        "if age >= 18 and earn >= 1000:\n",
        "  print(\"you're eligible for a credit card\")\n",
        "else:\n",
        "  print(\"you are not eligible for a credit card\")"
      ],
      "metadata": {
        "id": "KiuF2ByZDoZG",
        "colab": {
          "base_uri": "https://localhost:8080/"
        },
        "outputId": "f1bda557-5602-49c7-8445-32fe287ecf88"
      },
      "execution_count": 3,
      "outputs": [
        {
          "output_type": "stream",
          "name": "stdout",
          "text": [
            "what is your age19\n",
            "how much you earn per month(USD):10000\n",
            "you're eligible for a credit card\n"
          ]
        }
      ]
    },
    {
      "cell_type": "markdown",
      "source": [
        "\n",
        "4. **Nested Age Bracket Classifier:**\n",
        "   - Ask the user for their age and gender.\n",
        "   - Classify them into 'Young/Mature Male/Female' using nested conditional statements.\n"
      ],
      "metadata": {
        "id": "0p0RmJMKDpdG"
      }
    },
    {
      "cell_type": "code",
      "source": [
        "#Ex4\n",
        "age = int(input(\"what is your age\"))\n",
        "gen = input(\"what is your gender\")\n",
        "if age < 30:\n",
        "    if gen == \"Female\":\n",
        "        print(\"Young female.\")\n",
        "    else:\n",
        "        print(\"Young male.\")\n",
        "else:\n",
        "    if gen == \"Female\":\n",
        "        print(\"Mature female.\")\n",
        "    else:\n",
        "        print(\"Mature male.\")"
      ],
      "metadata": {
        "id": "QSi5-aToDrnK"
      },
      "execution_count": null,
      "outputs": []
    },
    {
      "cell_type": "markdown",
      "source": [
        "\n",
        "5. **Weekend Activity Planner:**\n",
        "   - Ask the user if it's a weekend and if the weather is good.\n",
        "   - Provide activity suggestions based on their answers:\n",
        "     - Weekend and good weather: \"Go for a picnic!\",\n",
        "     - Weekend and bad weather: \"Maybe watch a movie at home?\",\n",
        "     - Weekday and good weather: \"Don't forget your sunglasses on your way to work!\",\n",
        "     - Weekday and bad weather: \"Take an umbrella today.\""
      ],
      "metadata": {
        "id": "tyG7h84BDsrX"
      }
    },
    {
      "cell_type": "code",
      "source": [
        "#Ex5\n",
        "day = input(\"what is the day today?(the first letter should be capitle and others should not be capital e.g. Monday)\")\n",
        "weth = input(\"Is the weather good?:(answer 'Yes' or 'No')\")\n",
        "if day == \"Saturday\" or \"Sunday\":\n",
        "  if weth == \"Yes\":\n",
        "    print(\"Go for a picnic!\")\n",
        "  elif weth == \"No\":\n",
        "    print(\"Maybe watch a movie at home?\")\n",
        "  else:\n",
        "    print(\"error\")\n",
        "else:\n",
        "  if weth == \"Yes\":\n",
        "    print( \"Don't forget your sunglasses on your way to work!\")\n",
        "  elif weth == \"No\":\n",
        "    print(\"Take an umbrella today.\")\n",
        "  else:\n",
        "    print(\"error\")\n"
      ],
      "metadata": {
        "id": "7q-ze3tCDtgQ"
      },
      "execution_count": null,
      "outputs": []
    }
  ]
}