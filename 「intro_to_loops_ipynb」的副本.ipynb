{
  "cells": [
    {
      "cell_type": "markdown",
      "metadata": {
        "id": "a2Db_gg2H9l2"
      },
      "source": [
        "\n",
        "### **Introduction to Loops**\n",
        "\n",
        "In programming, loops offer a way to perform a set of instructions repeatedly. They are fundamental for tasks that require the same action to be taken on a series of items, or for actions to be repeated until a certain condition is met.\n",
        "\n",
        "---\n",
        "\n",
        "### **Understanding the `while` Loop and its Applications**\n",
        "\n",
        "The `while` loop executes a block of code as long as a specified condition remains `True`.\n",
        "\n",
        "**Basic Syntax:**\n",
        "```python\n",
        "while condition:\n",
        "    # body of the loop\n",
        "```\n",
        "\n",
        "**Example:**\n",
        "```python\n",
        "count = 0\n",
        "while count < 5:\n",
        "    print(count)\n",
        "    count += 1\n",
        "```\n",
        "\n",
        "In the above example, the loop will print numbers from 0 to 4. The loop continues as long as `count` is less than 5.\n",
        "\n",
        "**Applications:**\n",
        "1. **Repeating an action** until a user decides to quit.\n",
        "2. **Waiting for an external condition** to change (e.g., waiting for user input).\n",
        "3. **Polling:** Checking repeatedly if a resource is available or a task is completed.\n",
        "\n",
        "---\n",
        "\n",
        "### **Creating Counters and Accumulators**\n",
        "\n",
        "**1. Counters:**\n",
        "A counter is a variable that is incremented or decremented with each iteration of a loop.\n",
        "\n",
        "**Example:**\n",
        "```python\n",
        "# Counting how many times a loop runs\n",
        "count = 0\n",
        "while count < 10:\n",
        "    print(\"Loop iteration:\", count)\n",
        "    count += 1\n",
        "```\n",
        "\n",
        "**2. Accumulators:**\n",
        "An accumulator is a variable that collects or accumulates a value over time within a loop.\n",
        "\n",
        "**Example:**\n",
        "```python\n",
        "# Summing numbers from 1 to 5\n",
        "total = 0\n",
        "number = 1\n",
        "while number <= 5:\n",
        "    total += number\n",
        "    number += 1\n",
        "print(\"Total sum:\", total)\n",
        "```\n",
        "\n",
        "In the above example, `total` is an accumulator that collects the sum of numbers from 1 to 5.\n",
        "\n",
        "\n"
      ]
    },
    {
      "cell_type": "code",
      "execution_count": null,
      "metadata": {
        "id": "ixvEg1OJI0vm"
      },
      "outputs": [],
      "source": [
        "#Play around with the examples in this cell"
      ]
    },
    {
      "cell_type": "markdown",
      "metadata": {
        "id": "icvXf-Q8I4tF"
      },
      "source": [
        "---\n",
        "\n",
        "### **Practice Exercises:**\n",
        "\n",
        "1. **Positive Number Collector:** Ask the user to keep entering numbers. Stop when they enter a negative number and display the sum of all positive numbers entered.\n"
      ]
    },
    {
      "cell_type": "code",
      "execution_count": null,
      "metadata": {
        "id": "HWqs6QFuI6Pd",
        "colab": {
          "base_uri": "https://localhost:8080/",
          "height": 429
        },
        "outputId": "967e5c50-3b0c-4fe4-dbef-0c963bb5c187"
      },
      "outputs": [
        {
          "output_type": "error",
          "ename": "KeyboardInterrupt",
          "evalue": "ignored",
          "traceback": [
            "\u001b[0;31m---------------------------------------------------------------------------\u001b[0m",
            "\u001b[0;31mKeyboardInterrupt\u001b[0m                         Traceback (most recent call last)",
            "\u001b[0;32m<ipython-input-2-81b2b9701dc7>\u001b[0m in \u001b[0;36m<cell line: 4>\u001b[0;34m()\u001b[0m\n\u001b[1;32m      4\u001b[0m \u001b[0;32mwhile\u001b[0m \u001b[0ma\u001b[0m \u001b[0;34m>=\u001b[0m \u001b[0;36m0\u001b[0m\u001b[0;34m:\u001b[0m\u001b[0;34m\u001b[0m\u001b[0;34m\u001b[0m\u001b[0m\n\u001b[1;32m      5\u001b[0m   \u001b[0mtotal\u001b[0m \u001b[0;34m+=\u001b[0m \u001b[0ma\u001b[0m\u001b[0;34m\u001b[0m\u001b[0;34m\u001b[0m\u001b[0m\n\u001b[0;32m----> 6\u001b[0;31m   \u001b[0ma\u001b[0m \u001b[0;34m=\u001b[0m \u001b[0mint\u001b[0m\u001b[0;34m(\u001b[0m\u001b[0minput\u001b[0m\u001b[0;34m(\u001b[0m\u001b[0;34m\"enter the positive numbers you want to cauculate(if you want to stop the cauculartor enter a nagative word)\"\u001b[0m\u001b[0;34m)\u001b[0m\u001b[0;34m)\u001b[0m\u001b[0;34m\u001b[0m\u001b[0;34m\u001b[0m\u001b[0m\n\u001b[0m\u001b[1;32m      7\u001b[0m \u001b[0;34m\u001b[0m\u001b[0m\n\u001b[1;32m      8\u001b[0m \u001b[0mprint\u001b[0m\u001b[0;34m(\u001b[0m\u001b[0;34m\"total:\"\u001b[0m\u001b[0;34m,\u001b[0m\u001b[0mtotal\u001b[0m\u001b[0;34m)\u001b[0m\u001b[0;34m\u001b[0m\u001b[0;34m\u001b[0m\u001b[0m\n",
            "\u001b[0;32m/usr/local/lib/python3.10/dist-packages/ipykernel/kernelbase.py\u001b[0m in \u001b[0;36mraw_input\u001b[0;34m(self, prompt)\u001b[0m\n\u001b[1;32m    849\u001b[0m                 \u001b[0;34m\"raw_input was called, but this frontend does not support input requests.\"\u001b[0m\u001b[0;34m\u001b[0m\u001b[0;34m\u001b[0m\u001b[0m\n\u001b[1;32m    850\u001b[0m             )\n\u001b[0;32m--> 851\u001b[0;31m         return self._input_request(str(prompt),\n\u001b[0m\u001b[1;32m    852\u001b[0m             \u001b[0mself\u001b[0m\u001b[0;34m.\u001b[0m\u001b[0m_parent_ident\u001b[0m\u001b[0;34m,\u001b[0m\u001b[0;34m\u001b[0m\u001b[0;34m\u001b[0m\u001b[0m\n\u001b[1;32m    853\u001b[0m             \u001b[0mself\u001b[0m\u001b[0;34m.\u001b[0m\u001b[0m_parent_header\u001b[0m\u001b[0;34m,\u001b[0m\u001b[0;34m\u001b[0m\u001b[0;34m\u001b[0m\u001b[0m\n",
            "\u001b[0;32m/usr/local/lib/python3.10/dist-packages/ipykernel/kernelbase.py\u001b[0m in \u001b[0;36m_input_request\u001b[0;34m(self, prompt, ident, parent, password)\u001b[0m\n\u001b[1;32m    893\u001b[0m             \u001b[0;32mexcept\u001b[0m \u001b[0mKeyboardInterrupt\u001b[0m\u001b[0;34m:\u001b[0m\u001b[0;34m\u001b[0m\u001b[0;34m\u001b[0m\u001b[0m\n\u001b[1;32m    894\u001b[0m                 \u001b[0;31m# re-raise KeyboardInterrupt, to truncate traceback\u001b[0m\u001b[0;34m\u001b[0m\u001b[0;34m\u001b[0m\u001b[0m\n\u001b[0;32m--> 895\u001b[0;31m                 \u001b[0;32mraise\u001b[0m \u001b[0mKeyboardInterrupt\u001b[0m\u001b[0;34m(\u001b[0m\u001b[0;34m\"Interrupted by user\"\u001b[0m\u001b[0;34m)\u001b[0m \u001b[0;32mfrom\u001b[0m \u001b[0;32mNone\u001b[0m\u001b[0;34m\u001b[0m\u001b[0;34m\u001b[0m\u001b[0m\n\u001b[0m\u001b[1;32m    896\u001b[0m             \u001b[0;32mexcept\u001b[0m \u001b[0mException\u001b[0m \u001b[0;32mas\u001b[0m \u001b[0me\u001b[0m\u001b[0;34m:\u001b[0m\u001b[0;34m\u001b[0m\u001b[0;34m\u001b[0m\u001b[0m\n\u001b[1;32m    897\u001b[0m                 \u001b[0mself\u001b[0m\u001b[0;34m.\u001b[0m\u001b[0mlog\u001b[0m\u001b[0;34m.\u001b[0m\u001b[0mwarning\u001b[0m\u001b[0;34m(\u001b[0m\u001b[0;34m\"Invalid Message:\"\u001b[0m\u001b[0;34m,\u001b[0m \u001b[0mexc_info\u001b[0m\u001b[0;34m=\u001b[0m\u001b[0;32mTrue\u001b[0m\u001b[0;34m)\u001b[0m\u001b[0;34m\u001b[0m\u001b[0;34m\u001b[0m\u001b[0m\n",
            "\u001b[0;31mKeyboardInterrupt\u001b[0m: Interrupted by user"
          ]
        }
      ],
      "source": [
        "#Ex1\n",
        "total = 0\n",
        "a = 0\n",
        "while a >= 0:\n",
        "  total += a\n",
        "  a = int(input(\"enter the positive numbers you want to cauculate(if you want to stop the cauculartor enter a nagative word)\"))\n",
        "\n",
        "print(\"total:\",total)"
      ]
    },
    {
      "cell_type": "markdown",
      "metadata": {
        "id": "-_u-1EvmI8Dj"
      },
      "source": [
        "2. **Guessing Game:** Think of a number between 1 and 10. Allow the user to guess until they get the right number.\n"
      ]
    },
    {
      "cell_type": "code",
      "execution_count": null,
      "metadata": {
        "id": "pmd2ui8UI9nI"
      },
      "outputs": [],
      "source": [
        "#Ex2\n",
        "ans = 2\n",
        "gus = -1\n",
        "while gus != ans:\n",
        "  print(\"you are wrong, better luck next time!\")\n",
        "  gus =int(input(\"guess a number between 1 and 10\"))\n",
        "print(\"you win\")\n"
      ]
    },
    {
      "cell_type": "markdown",
      "metadata": {
        "id": "sMHpPBRQI_Kh"
      },
      "source": [
        "3. **Exponential Growth:** Given a number, keep multiplying it by 2 until it exceeds 1000. Count how many multiplications were needed.\n"
      ]
    },
    {
      "cell_type": "code",
      "execution_count": null,
      "metadata": {
        "id": "5ueHSVhEJA5S"
      },
      "outputs": [],
      "source": [
        "#Ex3\n",
        "a = int(input(\"type int he number you want to count till 1000\"))\n",
        "b = 0\n",
        "while a < 1000:\n",
        "  b += 1\n",
        "  a += 2\n",
        "  print(\"the number:\",a)\n",
        "\n",
        "print(\"you counted\",b,\"times\")"
      ]
    },
    {
      "cell_type": "markdown",
      "metadata": {
        "id": "R37qmrpgJCZY"
      },
      "source": [
        "4. **Password Retry:** Allow a user 3 attempts to enter a correct password.\n"
      ]
    },
    {
      "cell_type": "code",
      "execution_count": null,
      "metadata": {
        "id": "-mVz_khOJDt3"
      },
      "outputs": [],
      "source": [
        "#Ex4\n",
        "Password = 123\n",
        "i = 0\n",
        "ans = 0\n",
        "\n",
        "while i < 3 and ans != Password :\n",
        "  i += 1\n",
        "  ans = int(input(\"enter a password: \"))\n",
        "  if ans != Password and i >=3:\n",
        "    print(\"sorry you don't have any chances\")\n",
        "  elif ans == Password:\n",
        "    print(\"password entered\")\n"
      ]
    },
    {
      "cell_type": "markdown",
      "metadata": {
        "id": "xE9VCCIPJEtP"
      },
      "source": [
        "5. **Interest Calculator:** If you invest $100 at a 5% annual interest rate, how many years will it take for the money to double using compound interest?\n"
      ]
    },
    {
      "cell_type": "code",
      "execution_count": null,
      "metadata": {
        "id": "_muBoRqzJGB3"
      },
      "outputs": [],
      "source": [
        "#Ex5\n",
        "mon = 100\n",
        "a = mon\n",
        "i = 0\n",
        "while 2*mon > a:\n",
        "  i += 1\n",
        "  a = a+a*5/100\n",
        "print(i)"
      ]
    },
    {
      "cell_type": "markdown",
      "metadata": {
        "id": "UGn7LFPyJHUi"
      },
      "source": [
        "6. **Number of Divisors:** For a given number, find out how many divisors it has.\n"
      ]
    },
    {
      "cell_type": "code",
      "execution_count": null,
      "metadata": {
        "id": "50u_gFOuJJBB",
        "colab": {
          "base_uri": "https://localhost:8080/"
        },
        "outputId": "abc39252-0cab-4d39-cd4f-9beed3fbcd98"
      },
      "outputs": [
        {
          "output_type": "stream",
          "name": "stdout",
          "text": [
            "give a positive interger which you want to find how many divisor it has12\n",
            "12.0\n",
            "6.0\n",
            "4.0\n",
            "3.0\n",
            "2.0\n",
            "1.0\n",
            "there are 6 divisors for 12\n"
          ]
        }
      ],
      "source": [
        "#Ex6\n",
        "i = 1\n",
        "num = int(input(\"give a positive interger which you want to find how many divisor it has\"))\n",
        "a = num\n",
        "c=0\n",
        "b = 0\n",
        "if isinstance(num,int)==True:\n",
        "  while i <= a and a>0 :\n",
        "    if a%i == 0:\n",
        "      c = a/i\n",
        "      print(c)\n",
        "      i+=1\n",
        "      b+=1\n",
        "\n",
        "    else:\n",
        "      i+=1\n",
        "  print(\"there are\",b,\"divisors for\", num )\n",
        "else:\n",
        "  print(\"it's not an interger\")\n"
      ]
    },
    {
      "cell_type": "markdown",
      "metadata": {
        "id": "LAoVS7NyJLDl"
      },
      "source": [
        "7. **User Input Collector:** Keep asking the user for input until they type \"exit\" or \"quit\".\n"
      ]
    },
    {
      "cell_type": "code",
      "execution_count": 26,
      "metadata": {
        "id": "51EYMHtzJMVE",
        "colab": {
          "base_uri": "https://localhost:8080/"
        },
        "outputId": "c1f5e86e-3e3e-4dd1-e892-9008dff77fe3"
      },
      "outputs": [
        {
          "output_type": "stream",
          "name": "stdout",
          "text": [
            "enter something I will stop if you type exit or quita\n",
            "enter something I will stop if you type exit or quits\n",
            "enter something I will stop if you type exit or quits\n",
            "enter something I will stop if you type exit or quitas\n",
            "enter something I will stop if you type exit or quitds\n",
            "enter something I will stop if you type exit or quitquit\n",
            "well, that's it\n"
          ]
        }
      ],
      "source": [
        "#Ex7\n",
        "\n",
        "a = str\n",
        "while a != \"quit\" and a != \"exit\":\n",
        "    a = input(\"enter something I will stop if you type exit or quit\")\n",
        "\n",
        "print(\"well, that's it\")\n",
        "\n",
        "\n",
        "\n",
        ""
      ]
    },
    {
      "cell_type": "markdown",
      "metadata": {
        "id": "-Bmx7J87JOFD"
      },
      "source": [
        "8. **Factorial Calculator:** Calculate the factorial of a number using a loop.\n"
      ]
    },
    {
      "cell_type": "code",
      "source": [
        "\n",
        "#Ex8\n",
        "i = 1\n",
        "a = 1\n",
        "num = int(input(\"enter the natural number (positive interger) which you want to cauculate the factorial\"))\n",
        "if num > 0 and isinstance(num,int) == True:\n",
        "  while i <= num:\n",
        "    a = a * i\n",
        "    i += 1\n",
        "  print(\"the factorial of \",num,\" is\", a)\n",
        "else:\n",
        "  print(\"it's not a natural number\")"
      ],
      "metadata": {
        "colab": {
          "base_uri": "https://localhost:8080/"
        },
        "id": "On-y6fsZ5nNK",
        "outputId": "4af58c59-a150-4d66-afbe-20b39b0d3010"
      },
      "execution_count": 31,
      "outputs": [
        {
          "output_type": "stream",
          "name": "stdout",
          "text": [
            "enter the natural number (positive interger) which you want to cauculate the factorial2\n",
            "the factorial of  2  is 2\n"
          ]
        }
      ]
    },
    {
      "cell_type": "markdown",
      "metadata": {
        "id": "DC6RN9NGJQpX"
      },
      "source": [
        "9. **Fibonacci Sequence:** Generate the first N numbers of the Fibonacci sequence.\n"
      ]
    },
    {
      "cell_type": "code",
      "execution_count": 10,
      "metadata": {
        "id": "6RV7fRW9JR-b",
        "colab": {
          "base_uri": "https://localhost:8080/"
        },
        "outputId": "793ac074-2d7c-4159-e836-fab40f006674"
      },
      "outputs": [
        {
          "output_type": "stream",
          "name": "stdout",
          "text": [
            "what is the first number do you want the Fibonacci sequence to be started: 1\n",
            "what is the first number do you want the Fibonacci sequence to be started: 2\n",
            "how many number do you want in the sequence4\n",
            "1\n",
            "2\n",
            "3\n",
            "5\n"
          ]
        }
      ],
      "source": [
        "from os import fchown\n",
        "#Ex9\n",
        "i = 0\n",
        "a = int(input(\"what is the first number do you want the Fibonacci sequence to be started: \"))\n",
        "b = int(input(\"what is the first number do you want the Fibonacci sequence to be started: \"))\n",
        "space = 0\n",
        "end = int(input(\"how many number do you want in the sequence\"))\n",
        "print(a)\n",
        "print(b)\n",
        "i += 2\n",
        "order = 0\n",
        "while i < end :\n",
        "  space = b + a\n",
        "  print(space)\n",
        "  i+=1\n",
        "  if i >= end:\n",
        "    break\n",
        "  a = space + b\n",
        "  print(a)\n",
        "  i+=1\n",
        "  if i >= end:\n",
        "    break\n",
        "  b = space + a\n",
        "  print(b)\n",
        "  i += 1\n",
        "  if i >= end:\n",
        "    break"
      ]
    },
    {
      "cell_type": "markdown",
      "metadata": {
        "id": "dnX8zfHcJTXi"
      },
      "source": [
        "10. **Decreasing Counter:** Start from 100 and count down by sevens. Stop if the number goes negative."
      ]
    },
    {
      "cell_type": "code",
      "execution_count": 14,
      "metadata": {
        "id": "2bkZxvmIJUHN",
        "colab": {
          "base_uri": "https://localhost:8080/"
        },
        "outputId": "1b3120b8-d443-45da-e146-2565387955c4"
      },
      "outputs": [
        {
          "output_type": "stream",
          "name": "stdout",
          "text": [
            "100\n",
            "93\n",
            "86\n",
            "79\n",
            "72\n",
            "65\n",
            "58\n",
            "51\n",
            "44\n",
            "37\n",
            "30\n",
            "23\n",
            "16\n",
            "9\n",
            "2\n"
          ]
        }
      ],
      "source": [
        "#Ex10\n",
        "num = 100\n",
        "while num >= 0:\n",
        "  print(num)\n",
        "  num -= 7\n",
        ""
      ]
    }
  ],
  "metadata": {
    "colab": {
      "provenance": []
    },
    "kernelspec": {
      "display_name": "Python 3",
      "name": "python3"
    },
    "language_info": {
      "name": "python"
    }
  },
  "nbformat": 4,
  "nbformat_minor": 0
}