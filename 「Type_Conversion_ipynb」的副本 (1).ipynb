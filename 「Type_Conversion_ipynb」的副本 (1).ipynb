{
  "nbformat": 4,
  "nbformat_minor": 0,
  "metadata": {
    "colab": {
      "provenance": []
    },
    "kernelspec": {
      "name": "python3",
      "display_name": "Python 3"
    },
    "language_info": {
      "name": "python"
    }
  },
  "cells": [
    {
      "cell_type": "markdown",
      "source": [
        "---\n",
        "\n",
        "### **Type Conversion & User Input**\n",
        "\n",
        "---\n",
        "\n",
        "**I. Introduction to Type Conversion**\n",
        "\n",
        "- **Concept of Data Types and Compatibility:**\n",
        "    - Sometimes, different data types can't directly interact or work together.\n",
        "    - For instance, you can't directly add a text representation of a number (string) to an actual number (integer or float).\n",
        "\n",
        "- **Implicit vs. Explicit Type Conversion:**\n",
        "    - **Implicit:** Done automatically by the compiler/interpreter.\n",
        "    - **Explicit:** Done intentionally by the programmer.\n",
        "\n",
        "---\n",
        "\n",
        "**II. Implicit Type Conversion**\n",
        "\n",
        "- **Definition:**\n",
        "    - When the Python interpreter automatically changes one data type to another without the programmer's intervention.\n",
        "\n",
        "- **Examples:**\n",
        "    - Combining an integer with a float results in a float.\n",
        "    ```python\n",
        "    result = 3 + 4.5  # result is 7.5, a float\n",
        "    ```\n",
        "    - Combining an integer with a string can lead to errors.\n",
        "    \n",
        "- **Potential Pitfalls:**\n",
        "    - **Loss of Data:** Converting from float to integer discards the decimal part.\n",
        "    - **Unexpected Results:** Implicit conversion might not always yield the expected outcome.\n",
        "    - **Type Errors:** Some implicit conversions aren't allowed and can cause errors.\n",
        "\n",
        "---\n",
        "\n",
        "**III. Explicit Type Conversion**\n",
        "\n",
        "- **Definition:**\n",
        "    - When the programmer intentionally converts one data type to another using built-in functions.\n",
        "\n",
        "- **Conversion Functions:**\n",
        "    - `int()`: Converts a value to an integer.\n",
        "    - `float()`: Converts a value to a floating-point number.\n",
        "    - `str()`: Converts a value to a string.\n",
        "\n",
        "- **Demonstrations:**\n",
        "    - Convert a float to an integer:\n",
        "    ```python\n",
        "    integer_value = int(7.8)  # Result is 7\n",
        "    ```\n",
        "    - Convert an integer to a string:\n",
        "    ```python\n",
        "    string_value = str(25)  # Result is \"25\"\n",
        "    ```\n",
        "\n",
        "---\n",
        "\n",
        "**IV. Input from Users using the `input()` function**\n",
        "\n",
        "- **Introduction to `input()`:**\n",
        "    - A built-in Python function to take user input from the console.\n",
        "    \n",
        "- **Characteristics of `input()`:**\n",
        "    - The data obtained using `input()` is always a string. To use it as other data types, you need to convert it explicitly.\n",
        "\n",
        "---\n"
      ],
      "metadata": {
        "id": "CUpoFbofG8dq"
      }
    },
    {
      "cell_type": "markdown",
      "source": [
        "**1. Word Repetition Game**\n",
        "- Ask the user for a word and a number.\n",
        "- Convert the number to an integer and repeat the word that many times.\n",
        "- Example:\n",
        "    - Input: Word: \"Hello\", Number: \"3\"\n",
        "    - Output: \"HelloHelloHello\"\n",
        "\n",
        "---"
      ],
      "metadata": {
        "id": "wxkjUHtsH2hr"
      }
    },
    {
      "cell_type": "code",
      "source": [
        "#Ex1\n",
        "word = input(\"type a word:\")\n",
        "a = int(input(\"type a number you want to repeat the word:\"))\n",
        "for i in range(0,a ):\n",
        "  print(word)\n",
        "\n"
      ],
      "metadata": {
        "id": "hUtSMYsVH-eY",
        "outputId": "81c06f08-e152-4965-91c0-721f9d1d3ebb",
        "colab": {
          "base_uri": "https://localhost:8080/"
        }
      },
      "execution_count": null,
      "outputs": [
        {
          "output_type": "stream",
          "name": "stdout",
          "text": [
            "type a word:l\n",
            "type a number you want to repeat the word:9\n",
            "l\n",
            "l\n",
            "l\n",
            "l\n",
            "l\n",
            "l\n",
            "l\n",
            "l\n",
            "l\n"
          ]
        }
      ]
    },
    {
      "cell_type": "markdown",
      "source": [
        "**2. Money Calculator**\n",
        "- Prompt the user for the number of coins they have (like pennies, nickels, dimes, and quarters).\n",
        "- Convert the input to integers.\n",
        "- Calculate the total amount in dollars and cents.\n",
        "\n",
        "---"
      ],
      "metadata": {
        "id": "eUlwvePkH_-D"
      }
    },
    {
      "cell_type": "code",
      "source": [
        "#Ex2\n",
        "num = int(input(\"how much pennies?\"))\n",
        "\n",
        "nume = num*0.01\n",
        "\n",
        "print (\"this equals to \",nume,\"nume\")\n",
        "\n"
      ],
      "metadata": {
        "id": "A43ujndhIGo_"
      },
      "execution_count": null,
      "outputs": []
    },
    {
      "cell_type": "markdown",
      "source": [
        "**3. Movie Time**\n",
        "- Ask the user how long a movie is in minutes (e.g., \"120\").\n",
        "- Convert this to hours and minutes and display it.\n",
        "- Example:\n",
        "    - Input: \"140\"\n",
        "    - Output: \"The movie is 2 hours and 20 minutes long.\"\n",
        "\n",
        "---"
      ],
      "metadata": {
        "id": "1cSXQp50ILlb"
      }
    },
    {
      "cell_type": "code",
      "source": [
        "#Ex3\n",
        "a = int (input(\"how long a movie is ?(in minutes)\"))\n",
        "ac = a/60\n",
        "b = a % 60\n",
        "\n",
        "print(round(ac, 0),\"hour and\",b, \"minutes\")\n",
        "\n"
      ],
      "metadata": {
        "id": "6GCnZ9g7IQnZ",
        "colab": {
          "base_uri": "https://localhost:8080/"
        },
        "outputId": "0148e22f-d023-4184-a8d7-f5dcd8e05004"
      },
      "execution_count": null,
      "outputs": [
        {
          "output_type": "stream",
          "name": "stdout",
          "text": [
            "how long a movie is ?(in minutes)130\n",
            "2.0 hour and 10 minutes\n"
          ]
        }
      ]
    },
    {
      "cell_type": "markdown",
      "source": [
        "**4. Age in Days**\n",
        "- Have the user input their age in years.\n",
        "- Convert the age to days (ignoring leap years) and display the result.\n",
        "- Example:\n",
        "    - Input: \"25\"\n",
        "    - Output: \"You are approximately 9125 days old.\"\n",
        "\n",
        "---\n"
      ],
      "metadata": {
        "id": "DJD0fXVUISLH"
      }
    },
    {
      "cell_type": "code",
      "source": [
        "#Ex8\n",
        "a = [\"one\",\"two\",\"three\",\"four\",\"five\",\"six\",\"seven\",\"eight\",\"nine\",\"ten\"]\n",
        "rate = input(\"please rate our product:\")\n",
        "if rate == a[0] or rate == a[1] or rate == a[2] or rate ==a[3]:\n",
        "  print(\"Sorry for not letting you satisfied\")\n",
        "elif rate == a[4] or rate == a[5] or rate == a[6]:\n",
        "  print(\"Thank you for rating our product\")\n",
        "elif rate == a[7] or rate == a[8] or rate == a[9]:\n",
        "  print(\"Thank you! We're glad you loved it!\")\n",
        "else:\n",
        "  print(\"error, please rate it again\")\n",
        "#Congrats on maxing it this far! You rock!!!"
      ],
      "metadata": {
        "id": "_THFynUpIqTw"
      },
      "execution_count": null,
      "outputs": []
    },
    {
      "cell_type": "code",
      "source": [
        "#Ex4\n",
        "a = int(input(\"input your age in years\"))\n",
        "\n",
        "\n",
        "print(\"You are approximately \",a*365,\" days old.\")"
      ],
      "metadata": {
        "id": "L3TeR-x-IXj_",
        "colab": {
          "base_uri": "https://localhost:8080/"
        },
        "outputId": "c57b8ffa-1f9b-4c36-c05f-f30b476166e4"
      },
      "execution_count": null,
      "outputs": [
        {
          "output_type": "stream",
          "name": "stdout",
          "text": [
            "input your age in years25\n",
            "You are approximately  9125  days old.\n"
          ]
        }
      ]
    },
    {
      "cell_type": "markdown",
      "source": [
        "**5. String Calculator**\n",
        "- Ask the user for two numbers but as strings (e.g., \"12\" and \"15\").\n",
        "- Convert these strings to integers and perform basic arithmetic operations on them (addition, subtraction, multiplication).\n",
        "\n",
        "---"
      ],
      "metadata": {
        "id": "sEcfkwlfIZJv"
      }
    },
    {
      "cell_type": "code",
      "source": [
        "#Ex5\n",
        "one =int(input(\"numberone:\"))\n",
        "two =int(input(\"numbertwo:\"))\n",
        "\n",
        "\n",
        "addition = one + two\n",
        "subtraction = one - two\n",
        "multiplication = one * two\n",
        "\n",
        "print(\"addition:\",addition)\n",
        "print(\"subtraction:\",subtraction)\n",
        "print(\"multiplication:\",multiplication)\n"
      ],
      "metadata": {
        "id": "kjKUS4-gIdrC",
        "colab": {
          "base_uri": "https://localhost:8080/"
        },
        "outputId": "925c5356-2cef-4b96-a9c3-5d687b543019"
      },
      "execution_count": null,
      "outputs": [
        {
          "output_type": "stream",
          "name": "stdout",
          "text": [
            "numberone:12\n",
            "numbertwo:10\n",
            "addition: 22\n",
            "subtraction: 2\n",
            "multiplication: 120\n"
          ]
        }
      ]
    },
    {
      "cell_type": "markdown",
      "source": [
        "**6. Weight Converter**\n",
        "- Prompt the user for their weight in pounds.\n",
        "- Convert the weight to kilograms (using the conversion 1 pound = 0.453592 kilograms) and display the result.\n",
        "\n",
        "---"
      ],
      "metadata": {
        "id": "XU-uz7_gIfar"
      }
    },
    {
      "cell_type": "code",
      "source": [
        "#Ex\n",
        "a = float(input(\"your weight in pounds:\"))\n",
        "print(\"your weight in kilograms:\",a*0.453592)"
      ],
      "metadata": {
        "id": "uM2885UFIi4-",
        "colab": {
          "base_uri": "https://localhost:8080/"
        },
        "outputId": "db83191e-6b85-47cd-809a-d7f397d6e0e9"
      },
      "execution_count": null,
      "outputs": [
        {
          "output_type": "stream",
          "name": "stdout",
          "text": [
            "your weight in pounds:10\n",
            "your weight in kilograms: 4.53592\n"
          ]
        }
      ]
    },
    {
      "cell_type": "markdown",
      "source": [
        "**7. Temperature Alert**\n",
        "- Ask the user for the temperature in Fahrenheit.\n",
        "- Convert it to Celsius.\n",
        "- If the temperature in Celsius is below 0, print an alert that it's freezing!\n",
        "\n",
        "---"
      ],
      "metadata": {
        "id": "Vqf3KRegIkwG"
      }
    },
    {
      "cell_type": "code",
      "source": [
        "#Ex7\n",
        "tempf = int(input(\"input your temp in fahrenheit:\"))\n",
        "tempc = (tempf - 32) * 5/9\n",
        "\n",
        "print(\"temp in Celsius:\",round(tempc,0))\n",
        "\n",
        "if tempc < 0:\n",
        "  print(\"freezing alert!!!!!!\")"
      ],
      "metadata": {
        "id": "Bvn01u27InZD",
        "colab": {
          "base_uri": "https://localhost:8080/"
        },
        "outputId": "0629c3e5-1130-4772-f913-9918ab87243a"
      },
      "execution_count": null,
      "outputs": [
        {
          "output_type": "stream",
          "name": "stdout",
          "text": [
            "input your temp in fahrenheit:30\n",
            "temp in Celsius: -1.0\n",
            "freezing alert!!!!!!\n"
          ]
        }
      ]
    },
    {
      "cell_type": "markdown",
      "source": [
        "**8. User Feedback Rating**\n",
        "- Ask the user to rate a product on a scale of 1-10, but they should input it as a word (e.g., \"seven\").\n",
        "- Convert the word to its corresponding number. (This requires a bit more logic, using a dictionary or if-else statements.)\n",
        "- Display a message based on the number (e.g., for ratings 8-10, display \"Thank you! We're glad you loved it!\").\n",
        "\n",
        "---"
      ],
      "metadata": {
        "id": "HtgxB-B0IpTW"
      }
    },
    {
      "cell_type": "markdown",
      "source": [
        "In Python, both the comma (`,`) and the plus (`+`) sign can be used with the `print` function, but they serve different purposes and have different behaviors. Here are the main differences:\n",
        "\n",
        "1. **Type Compatibility**:\n",
        "   - **Comma (`,`)**: You can use the comma to concatenate items of different types without explicitly converting them. The `print` function will internally convert the arguments to strings.\n",
        "   - **Plus (`+`)**: When using the plus sign, the items being concatenated must be of the same type. If you're trying to concatenate a string with a number, for instance, you'll need to explicitly convert the number to a string using `str()`.\n",
        "\n",
        "2. **Output Spacing**:\n",
        "   - **Comma (`,`)**: When using a comma, the `print` function will insert a space between the items.\n",
        "   - **Plus (`+`)**: The plus sign will concatenate the items directly without any space in between.\n",
        "\n",
        "3. **Flexibility**:\n",
        "   - **Comma (`,`)**: You can print multiple items of different types easily, and also include additional parameters like `end` and `sep`.\n",
        "   - **Plus (`+`)**: It's primarily for string concatenation, and you'd have to manage type conversions yourself.\n",
        "\n",
        "Here's a demonstration of the differences:\n",
        "\n",
        "```python\n",
        "x = 5\n",
        "y = \"Hello\"\n",
        "\n",
        "# Using comma\n",
        "print(y, x)\n",
        "\n",
        "# Using plus (requires explicit type conversion for non-string types)\n",
        "print(y + \" \" + str(x))\n",
        "```\n",
        "\n",
        "The output for the above code would be:\n",
        "\n",
        "```\n",
        "Hello 5\n",
        "Hello 5\n",
        "```\n",
        "\n",
        "Let's run a demonstration to see the differences in action.\n",
        "\n",
        "As demonstrated:\n",
        "\n",
        "Using the comma (`,`):\n",
        "```\n",
        "Output: Hello 5\n",
        "```\n",
        "\n",
        "Using the plus (`+`):\n",
        "```\n",
        "Output: Hello 5\n",
        "```\n",
        "\n",
        "In both cases, the outputs are the same in this example. However, the distinction comes in how they handle different types and spacing, as previously explained. Using the comma is generally more forgiving and flexible for printing multiple items, while the plus sign requires more care regarding type compatibility and formatting."
      ],
      "metadata": {
        "id": "CPVKyuY2KKjd"
      }
    }
  ]
}