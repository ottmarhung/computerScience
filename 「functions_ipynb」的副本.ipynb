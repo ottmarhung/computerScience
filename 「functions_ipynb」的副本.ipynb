{
  "nbformat": 4,
  "nbformat_minor": 0,
  "metadata": {
    "colab": {
      "provenance": [],
      "include_colab_link": true
    },
    "kernelspec": {
      "name": "python3",
      "display_name": "Python 3"
    },
    "language_info": {
      "name": "python"
    }
  },
  "cells": [
    {
      "cell_type": "markdown",
      "metadata": {
        "id": "view-in-github",
        "colab_type": "text"
      },
      "source": [
        "<a href=\"https://colab.research.google.com/github/ottmarhung/computerScience/blob/main/%E3%80%8Cfunctions_ipynb%E3%80%8D%E7%9A%84%E5%89%AF%E6%9C%AC.ipynb\" target=\"_parent\"><img src=\"https://colab.research.google.com/assets/colab-badge.svg\" alt=\"Open In Colab\"/></a>"
      ]
    },
    {
      "cell_type": "markdown",
      "source": [
        "### **Introduction to Functions**\n",
        "\n",
        "In programming, a function is a self-contained block of code that encapsulates a specific task or related group of tasks. Functions are essential for breaking down complex tasks into smaller, more manageable parts.\n",
        "\n",
        "Advantages of using functions:\n",
        "- **Modularity:** Break down complex tasks into smaller, reusable chunks.\n",
        "- **Reusability:** Write once, use multiple times.\n",
        "- **Maintainability:** Easier to fix issues in one centralized location.\n",
        "- **Abstraction:** Hide complex implementation details, presenting a simple interface.\n",
        "\n",
        "---\n",
        "\n",
        "### **Defining and Calling Functions**\n",
        "\n",
        "**1. Defining a Function:**\n",
        "\n",
        "Use the `def` keyword followed by a function name, parentheses, and a colon. The code block within every function is indented.\n",
        "\n",
        "```python\n",
        "def greet():\n",
        "    print(\"Hello, World!\")\n",
        "```\n",
        "\n",
        "**2. Calling a Function:**\n",
        "\n",
        "To execute the function's code, use the function name followed by parentheses.\n",
        "\n",
        "```python\n",
        "greet()  # This will print \"Hello, World!\"\n",
        "```\n",
        "\n",
        "---\n",
        "\n",
        "### **Parameters and Return Values**\n",
        "\n",
        "**1. Parameters:**\n",
        "\n",
        "Functions can take inputs, known as parameters, to process and potentially use in its task.\n",
        "\n",
        "```python\n",
        "def greet(name):\n",
        "    print(f\"Hello, {name}!\")\n",
        "```\n",
        "\n",
        "**2. Return Values:**\n",
        "\n",
        "Functions can also return results to the caller using the `return` keyword. If no return statement is provided, the function will return `None` by default.\n",
        "\n",
        "```python\n",
        "def add(a, b):\n",
        "    return a + b\n",
        "```\n",
        "\n",
        "---"
      ],
      "metadata": {
        "id": "9G7BXlQXQQ9X"
      }
    },
    {
      "cell_type": "markdown",
      "source": [
        "### **Practice Exercises:**\n",
        "\n",
        "1. **Hello Name:**\n",
        "   - Define a function that takes a name as a parameter and prints \"Hello, [Name]!\".\n",
        "   \n"
      ],
      "metadata": {
        "id": "tBNd71f_yRYF"
      }
    },
    {
      "cell_type": "code",
      "source": [
        "#ex1\n",
        "def greet(name):\n",
        "  print(\"Hello, [name]!\")"
      ],
      "metadata": {
        "id": "8lYZuO2CyUqd"
      },
      "execution_count": null,
      "outputs": []
    },
    {
      "cell_type": "markdown",
      "source": [
        "2. **Area of a Circle:**\n",
        "   - Define a function that calculates the area of a circle given its radius.\n",
        "\n"
      ],
      "metadata": {
        "id": "c58v6-epyVNf"
      }
    },
    {
      "cell_type": "code",
      "source": [
        "#ex2\n",
        "def area_of_circle(radius):\n",
        " return radius * radius *3.1415926\n"
      ],
      "metadata": {
        "id": "DHoK_BaVyfgL",
        "colab": {
          "base_uri": "https://localhost:8080/"
        },
        "outputId": "03ba940b-87e2-4359-85f6-596bb09c09cd"
      },
      "execution_count": null,
      "outputs": [
        {
          "output_type": "stream",
          "name": "stdout",
          "text": [
            "28.2743334\n"
          ]
        }
      ]
    },
    {
      "cell_type": "markdown",
      "source": [
        "3. **String Reverser:**\n",
        "   - Write a function that returns the reverse of a given string.\n",
        "\n"
      ],
      "metadata": {
        "id": "wUDhG3X5yiJW"
      }
    },
    {
      "cell_type": "code",
      "source": [
        "#ex3\n",
        "def rev(string):\n",
        "  for i in range(len(string)-1,0,-1):\n",
        "    print(string[i])\n",
        "  print(string[i-1])\n",
        "rev(\"world\")"
      ],
      "metadata": {
        "id": "f7I9hlbSykBG",
        "colab": {
          "base_uri": "https://localhost:8080/"
        },
        "outputId": "dde412d5-1675-47af-e635-fb889445f12c"
      },
      "execution_count": null,
      "outputs": [
        {
          "output_type": "stream",
          "name": "stdout",
          "text": [
            "d\n",
            "l\n",
            "r\n",
            "o\n",
            "w\n"
          ]
        }
      ]
    },
    {
      "cell_type": "markdown",
      "source": [
        "4. **List Multiplier:**\n",
        "   - Write a function that takes a list and a number as parameters. The function should return a new list where each element is multiplied by the number.\n",
        "\n"
      ],
      "metadata": {
        "id": "Z7trQ7wCyluv"
      }
    },
    {
      "cell_type": "code",
      "source": [
        "#ex4\n",
        "def multwo(b):\n",
        "  a = 2\n",
        "  i = 0\n",
        "  for i in range(0,len(b)-1):\n",
        "    b[i] = b[i]*a\n",
        "  print(b)\n",
        "c = [1,2,3,4,5,6]\n",
        "multwo(c)"
      ],
      "metadata": {
        "id": "QcK55imVynU8",
        "colab": {
          "base_uri": "https://localhost:8080/"
        },
        "outputId": "32c04338-da64-4c3f-e3d5-7d64c8c4d011"
      },
      "execution_count": 4,
      "outputs": [
        {
          "output_type": "stream",
          "name": "stdout",
          "text": [
            "[2, 4, 6, 8, 10, 6]\n"
          ]
        }
      ]
    },
    {
      "cell_type": "markdown",
      "source": [
        "5. **Prime Checker:**\n",
        "   - Create a function that checks if a number is prime. If prime, it should return `True`, otherwise `False`.\n",
        "\n"
      ],
      "metadata": {
        "id": "cIZyRI10yogs"
      }
    },
    {
      "cell_type": "code",
      "source": [
        "#ex5\n",
        "def isprime(a):\n",
        "  b = 0\n",
        "  i= 0\n",
        "  for i in range(1,a):\n",
        "    if a%i == 0:\n",
        "      b+=1\n",
        "\n",
        "  if b == 1:\n",
        "\n",
        "    return True\n",
        "  else:\n",
        "\n",
        "    return False\n",
        "isprime(3)"
      ],
      "metadata": {
        "id": "6bs6XxzSyprq",
        "colab": {
          "base_uri": "https://localhost:8080/"
        },
        "outputId": "091f2458-82a3-44e1-aad1-94449f5d26c3"
      },
      "execution_count": 5,
      "outputs": [
        {
          "output_type": "execute_result",
          "data": {
            "text/plain": [
              "True"
            ]
          },
          "metadata": {},
          "execution_count": 5
        }
      ]
    },
    {
      "cell_type": "markdown",
      "source": [
        "6. **Factorial Calculator:**\n",
        "   - Write a function that calculates the factorial of a number.\n",
        "\n"
      ],
      "metadata": {
        "id": "-g_xki8tyrjp"
      }
    },
    {
      "cell_type": "code",
      "source": [
        "#ex6\n",
        "def factor(a):\n",
        "  for i in range(1, a):\n",
        "    a = a*i\n",
        "  print(a)\n",
        "factor(4)"
      ],
      "metadata": {
        "id": "y3dO2HWdyswx",
        "colab": {
          "base_uri": "https://localhost:8080/"
        },
        "outputId": "8e78e507-0aaf-4fbe-9f4b-a1ceb804313c"
      },
      "execution_count": 5,
      "outputs": [
        {
          "output_type": "stream",
          "name": "stdout",
          "text": [
            "24\n"
          ]
        }
      ]
    },
    {
      "cell_type": "markdown",
      "source": [
        "7. **Age in Dog Years:**\n",
        "   - Define a function that converts human years to dog years (1 human year = 7 dog years).\n",
        "\n"
      ],
      "metadata": {
        "id": "6XrVk9wzywM2"
      }
    },
    {
      "cell_type": "code",
      "source": [
        "#ex7\n",
        "def hu_to_dog(a):\n",
        "  a = a*7\n",
        "  print(\"dog years: \",a)\n",
        "hu_to_dog(2)"
      ],
      "metadata": {
        "id": "Uplmvk7Syxno",
        "colab": {
          "base_uri": "https://localhost:8080/"
        },
        "outputId": "53aeb96a-4637-4591-88f4-239f7db3ed00"
      },
      "execution_count": 7,
      "outputs": [
        {
          "output_type": "stream",
          "name": "stdout",
          "text": [
            "dog year:  14\n"
          ]
        }
      ]
    },
    {
      "cell_type": "markdown",
      "source": [
        "8. **Temperature Converter:**\n",
        "   - Create a function that converts Celsius to Fahrenheit.\n",
        "\n"
      ],
      "metadata": {
        "id": "yzhpfw4Syzdc"
      }
    },
    {
      "cell_type": "code",
      "source": [
        "#ex8\n",
        "def cToF(c):\n",
        "  c = 9/5*c +32\n",
        "  print(c)\n",
        "cToF(0)"
      ],
      "metadata": {
        "id": "v-7DVKBWy0yK",
        "colab": {
          "base_uri": "https://localhost:8080/"
        },
        "outputId": "c2b5f6bf-e99c-42a1-ec18-74f0bc244d74"
      },
      "execution_count": 12,
      "outputs": [
        {
          "output_type": "stream",
          "name": "stdout",
          "text": [
            "32.0\n"
          ]
        }
      ]
    },
    {
      "cell_type": "markdown",
      "source": [
        "9. **String Repeater:**\n",
        "   - Define a function that takes a string and a number, then returns the string repeated that number of times.\n",
        "\n"
      ],
      "metadata": {
        "id": "kQlt7ezky1_Z"
      }
    },
    {
      "cell_type": "code",
      "source": [
        "#ex9\n",
        "def strnum(a,b):\n",
        "  for i in range(b):\n",
        "    print(a)\n",
        "strnum(\"unun\",2)\n"
      ],
      "metadata": {
        "id": "n23sdrE8y3an",
        "colab": {
          "base_uri": "https://localhost:8080/"
        },
        "outputId": "7bf37cfb-45da-4e1e-aec8-af866765ecc4"
      },
      "execution_count": 3,
      "outputs": [
        {
          "output_type": "stream",
          "name": "stdout",
          "text": [
            "unun\n",
            "unun\n"
          ]
        }
      ]
    },
    {
      "cell_type": "markdown",
      "source": [
        "10. **List Average:**\n",
        "   - Write a function that calculates the average of a list of numbers.\n"
      ],
      "metadata": {
        "id": "PrcszXAay4e0"
      }
    },
    {
      "cell_type": "code",
      "source": [
        "#ex10\n",
        "def avrage(a):\n",
        "  b=0\n",
        "  for i in range(0,len(a)):\n",
        "    b += a[i]\n",
        "  return b/len(a)\n",
        "s=[1,2,3,4,5,6]\n",
        "print(avrage(s))\n"
      ],
      "metadata": {
        "id": "LSG5y_X-y54t",
        "colab": {
          "base_uri": "https://localhost:8080/"
        },
        "outputId": "204acb14-2552-44d4-9d07-aa4674ee077b"
      },
      "execution_count": 4,
      "outputs": [
        {
          "output_type": "stream",
          "name": "stdout",
          "text": [
            "3.5\n"
          ]
        }
      ]
    }
  ]
}