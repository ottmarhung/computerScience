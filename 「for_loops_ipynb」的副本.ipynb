{
  "nbformat": 4,
  "nbformat_minor": 0,
  "metadata": {
    "colab": {
      "provenance": []
    },
    "kernelspec": {
      "name": "python3",
      "display_name": "Python 3"
    },
    "language_info": {
      "name": "python"
    }
  },
  "cells": [
    {
      "cell_type": "markdown",
      "source": [
        "### **Introduction to `for` Loops**\n",
        "\n",
        "In programming, a `for` loop provides a clean and concise way to iterate over a sequence of items. It's one of the most commonly used loops due to its simplicity and versatility in handling structured data types.\n",
        "\n",
        "---\n",
        "\n",
        "### **Iterating Over Ranges**\n",
        "\n",
        "The `range()` function generates a sequence of numbers, which can be used in a `for` loop to repeat an action a specific number of times.\n",
        "\n",
        "**Basic Syntax:**\n",
        "```python\n",
        "for variable in range(start, stop, step):\n",
        "    # body of the loop\n",
        "```\n",
        "\n",
        "- `start`: The beginning value (optional, default is 0).\n",
        "- `stop`: The end value (exclusive).\n",
        "- `step`: The increment/decrement value (optional, default is 1).\n",
        "\n",
        "**Example 1:** Counting from 0 to 4\n",
        "```python\n",
        "for i in range(5):\n",
        "    print(i)\n",
        "```\n",
        "\n",
        "**Example 2:** Counting from 2 to 8 in steps of 2\n",
        "```python\n",
        "for i in range(2, 9, 2):\n",
        "    print(i)\n",
        "```\n",
        "\n",
        "---\n",
        "\n",
        "### **Iterating Over Lists**\n",
        "\n",
        "A `for` loop can directly iterate over items in a list without needing to reference indices.\n",
        "\n",
        "**Basic Syntax:**\n",
        "```python\n",
        "for item in list_name:\n",
        "    # body of the loop\n",
        "```\n",
        "\n",
        "**Example:** Printing all items in a list\n",
        "```python\n",
        "fruits = [\"apple\", \"banana\", \"cherry\"]\n",
        "for fruit in fruits:\n",
        "    print(fruit)\n",
        "```\n",
        "\n",
        "**Note:** The `for` loop can also iterate over other iterable data types like tuples, sets, strings, and dictionaries.\n",
        "\n",
        "---\n",
        "\n"
      ],
      "metadata": {
        "id": "jPs46T6tIdCB"
      }
    },
    {
      "cell_type": "code",
      "source": [
        "#You can play around with the examples in this cell"
      ],
      "metadata": {
        "id": "vTqc3r88JzoK"
      },
      "execution_count": null,
      "outputs": []
    },
    {
      "cell_type": "markdown",
      "source": [
        "\n",
        "### **Practice Exercises:**\n",
        "\n",
        "1. **Number Doubler:** For numbers 1 through 10, print each number doubled.\n",
        "\n"
      ],
      "metadata": {
        "id": "5X8znl34J3A2"
      }
    },
    {
      "cell_type": "code",
      "source": [
        "#Ex1\n",
        "start = 1\n",
        "end = 10\n",
        "for i in range(start,end+1):\n",
        "  print(i*2)"
      ],
      "metadata": {
        "id": "UwcBDItUJsyv",
        "outputId": "c4502b44-c3a3-4bcc-b583-ebbc2a10dd8a",
        "colab": {
          "base_uri": "https://localhost:8080/"
        }
      },
      "execution_count": null,
      "outputs": [
        {
          "output_type": "stream",
          "name": "stdout",
          "text": [
            "2\n",
            "4\n",
            "6\n",
            "8\n",
            "10\n",
            "12\n",
            "14\n",
            "16\n",
            "18\n",
            "20\n"
          ]
        }
      ]
    },
    {
      "cell_type": "markdown",
      "source": [
        "2. **Vowel Finder:** Given a word, iterate over it and print only the vowels.\n"
      ],
      "metadata": {
        "id": "an5RrtO3J617"
      }
    },
    {
      "cell_type": "code",
      "source": [
        "#Ex2\n",
        "word = \"umbrella\"\n",
        "vowels = [\"a\",\"e\",\"i\",\"o\",\"u\"]\n",
        "for letter in word:\n",
        "  for i in vowels:\n",
        "    if letter == i:\n",
        "      print(letter)"
      ],
      "metadata": {
        "id": "LefNxEbXJ8Zw",
        "colab": {
          "base_uri": "https://localhost:8080/"
        },
        "outputId": "406dd086-d9fb-4923-b904-989449a67045"
      },
      "execution_count": null,
      "outputs": [
        {
          "output_type": "stream",
          "name": "stdout",
          "text": [
            "u\n",
            "e\n",
            "a\n"
          ]
        }
      ]
    },
    {
      "cell_type": "markdown",
      "source": [
        "3. **List Reverser:** Without using built-in functions, reverse the items in a list.\n"
      ],
      "metadata": {
        "id": "SWs102V4J9u-"
      }
    },
    {
      "cell_type": "code",
      "source": [
        "#Ex3\n",
        "\n",
        "word = \"umbrella\"\n",
        "for i in range(len(word)-1, 0 ,-1):\n",
        "  print(word[i])\n",
        "\n",
        "\n",
        "\n"
      ],
      "metadata": {
        "id": "ev_24-pQJ_eN",
        "colab": {
          "base_uri": "https://localhost:8080/"
        },
        "outputId": "245e7ad6-5016-498b-e980-20cc1bdbcde6"
      },
      "execution_count": null,
      "outputs": [
        {
          "output_type": "stream",
          "name": "stdout",
          "text": [
            "a\n",
            "l\n",
            "l\n",
            "e\n",
            "r\n",
            "b\n",
            "m\n"
          ]
        }
      ]
    },
    {
      "cell_type": "markdown",
      "source": [
        "4. **Odd Number Counter:** Given a list of numbers, count how many odd numbers there are.\n"
      ],
      "metadata": {
        "id": "nzzOUhNiKAqP"
      }
    },
    {
      "cell_type": "code",
      "source": [
        "#Ex4\n",
        "a = [1, 2, 3, 4]\n",
        "i = 0\n",
        "for i in range(0,len(a)):\n",
        "  if a[i]%2 == 1:\n",
        "    print(a[i],\"is an odd number\")\n",
        "  else:\n",
        "    print(a[i],\"is not an odd number\")\n"
      ],
      "metadata": {
        "id": "VMYhMku7KB8S",
        "colab": {
          "base_uri": "https://localhost:8080/"
        },
        "outputId": "2eeba0cd-68fa-4cd1-e292-aae7426590ce"
      },
      "execution_count": null,
      "outputs": [
        {
          "output_type": "stream",
          "name": "stdout",
          "text": [
            "1 is an odd number\n",
            "2 is not an odd number\n",
            "3 is an odd number\n",
            "4 is not an odd number\n"
          ]
        }
      ]
    },
    {
      "cell_type": "markdown",
      "source": [],
      "metadata": {
        "id": "QG8uziNGCBll"
      }
    },
    {
      "cell_type": "markdown",
      "source": [
        "5. **Grade Assigner:** For a list of scores, assign and print grades (e.g., A, B, C).\n"
      ],
      "metadata": {
        "id": "lMx0qR57KDI4"
      }
    },
    {
      "cell_type": "code",
      "source": [
        "#Ex5\n",
        "a = [100,200,300,400,500]\n",
        "for i in range (0, len(a)):\n",
        "  print(\"grade number \",i+1,\"is \",a[i])"
      ],
      "metadata": {
        "id": "9UhJ6-F6KFDN",
        "colab": {
          "base_uri": "https://localhost:8080/"
        },
        "outputId": "6bfc3416-923b-4d48-8985-ededc5a33214"
      },
      "execution_count": null,
      "outputs": [
        {
          "output_type": "stream",
          "name": "stdout",
          "text": [
            "grade number  1 is  100\n",
            "grade number  2 is  200\n",
            "grade number  3 is  300\n",
            "grade number  4 is  400\n",
            "grade number  5 is  500\n"
          ]
        }
      ]
    },
    {
      "cell_type": "markdown",
      "source": [
        "6. **Word Lengths:** For a list of words, print each word alongside its length.\n"
      ],
      "metadata": {
        "id": "a-5VcK9GKGMi"
      }
    },
    {
      "cell_type": "code",
      "source": [
        "#Ex6\n",
        "i = 0\n",
        "\n",
        "a = [\"word\", \"happy\", \"memory\", \"dog\"]\n",
        "for i in range(0,len(a)):\n",
        "  print(a[i])\n",
        "  print(len(a[i]))\n",
        "\n",
        "\n",
        "\n"
      ],
      "metadata": {
        "id": "WJ2YmGMZKT68",
        "colab": {
          "base_uri": "https://localhost:8080/"
        },
        "outputId": "d3d8ab42-fb02-4e03-c907-1a5ba033f58e"
      },
      "execution_count": 13,
      "outputs": [
        {
          "output_type": "stream",
          "name": "stdout",
          "text": [
            "word\n",
            "4\n",
            "happy\n",
            "5\n",
            "memory\n",
            "6\n",
            "dog\n",
            "3\n"
          ]
        }
      ]
    },
    {
      "cell_type": "markdown",
      "source": [
        "7. **Positive Number Finder:** Given a list of numbers, print only the positive ones.\n"
      ],
      "metadata": {
        "id": "G7NqPlM_KflV"
      }
    },
    {
      "cell_type": "code",
      "source": [
        "#Ex7\n",
        "i = 0\n",
        "num = [-1,0,-100,1, 100]\n",
        "for i in range(0,len(num)-1):\n",
        "  if num[i] < 0:\n",
        "    print(num[i])\n",
        "\n"
      ],
      "metadata": {
        "id": "W2_2S2xBKgsY",
        "colab": {
          "base_uri": "https://localhost:8080/"
        },
        "outputId": "8fe8b991-d138-4fca-e987-41ae9cb51dd0"
      },
      "execution_count": 21,
      "outputs": [
        {
          "output_type": "stream",
          "name": "stdout",
          "text": [
            "-1\n",
            "-100\n"
          ]
        }
      ]
    },
    {
      "cell_type": "markdown",
      "source": [
        "8. **Temperature Converter:** Convert a list of temperatures from Celsius to Fahrenheit and print them.\n"
      ],
      "metadata": {
        "id": "Am8UDtkgKhwu"
      }
    },
    {
      "cell_type": "code",
      "source": [
        "#Ex8\n",
        "c = [10,20,30,40]\n",
        "for i in range(0,len(c)):\n",
        "  c[i] = c[i]*9/5+32\n",
        "  print(c[i])"
      ],
      "metadata": {
        "id": "nXjgFlTeKi3h",
        "colab": {
          "base_uri": "https://localhost:8080/"
        },
        "outputId": "c35ca1e4-5300-455e-ae02-e1d0ac78c82c"
      },
      "execution_count": 4,
      "outputs": [
        {
          "output_type": "stream",
          "name": "stdout",
          "text": [
            "50.0\n",
            "68.0\n",
            "86.0\n",
            "104.0\n"
          ]
        }
      ]
    },
    {
      "cell_type": "markdown",
      "source": [
        "9. **Name Initials:** For a list of full names, print the initials of each name.\n"
      ],
      "metadata": {
        "id": "MhodCC6HKkLh"
      }
    },
    {
      "cell_type": "code",
      "source": [
        "#Ex9\n",
        "f = [\"Ottmar Hung\",\"Jackson Chen\",\"Samuel Wang\"]\n",
        "for i in range(0,len(f)):\n",
        "  print(\" \")\n",
        "  for m in f[i]:\n",
        "    if m.isupper() == True:\n",
        "      print(m)"
      ],
      "metadata": {
        "id": "HQ5_rY3-Klnc",
        "colab": {
          "base_uri": "https://localhost:8080/"
        },
        "outputId": "59a2819d-8195-4d5d-809c-609e749c1c8f"
      },
      "execution_count": 7,
      "outputs": [
        {
          "output_type": "stream",
          "name": "stdout",
          "text": [
            " \n",
            "O\n",
            "H\n",
            " \n",
            "J\n",
            "C\n",
            " \n",
            "S\n",
            "W\n"
          ]
        }
      ]
    },
    {
      "cell_type": "markdown",
      "source": [
        "10. **Range Sum:** Calculate the sum of numbers from 1 to 100 using a `for` loop."
      ],
      "metadata": {
        "id": "Sbmpt_V3Kpd_"
      }
    },
    {
      "cell_type": "code",
      "source": [
        "#Ex10\n",
        "sum = 0\n",
        "start = 1\n",
        "end = 100\n",
        "starti = start\n",
        "endi = end\n",
        "\n",
        "for i in range(starti, endi):\n",
        "  if end>=start:\n",
        "    sum = sum + start + end\n",
        "    start +=1\n",
        "    end -= 1\n",
        "    print(sum)\n"
      ],
      "metadata": {
        "id": "EQ1De9pKKrrz",
        "colab": {
          "base_uri": "https://localhost:8080/"
        },
        "outputId": "19c632d4-4911-4b2b-edf7-a39c61e6f774"
      },
      "execution_count": 18,
      "outputs": [
        {
          "output_type": "stream",
          "name": "stdout",
          "text": [
            "102\n",
            "204\n",
            "306\n",
            "408\n",
            "510\n",
            "612\n",
            "714\n",
            "816\n",
            "918\n",
            "1020\n",
            "1122\n",
            "1224\n",
            "1326\n",
            "1428\n",
            "1530\n",
            "1632\n",
            "1734\n",
            "1836\n",
            "1938\n",
            "2040\n",
            "2142\n",
            "2244\n",
            "2346\n",
            "2448\n",
            "2550\n",
            "2652\n",
            "2754\n",
            "2856\n",
            "2958\n",
            "3060\n",
            "3162\n",
            "3264\n",
            "3366\n",
            "3468\n",
            "3570\n",
            "3672\n",
            "3774\n",
            "3876\n",
            "3978\n",
            "4080\n",
            "4182\n",
            "4284\n",
            "4386\n",
            "4488\n",
            "4590\n",
            "4692\n",
            "4794\n",
            "4896\n",
            "4998\n",
            "5100\n",
            "5202\n"
          ]
        }
      ]
    }
  ]
}